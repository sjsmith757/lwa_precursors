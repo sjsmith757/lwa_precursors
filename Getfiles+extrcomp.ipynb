{
 "cells": [
  {
   "cell_type": "code",
   "execution_count": 1,
   "id": "30450f02-7da8-4fbe-a7c1-75e68cc67479",
   "metadata": {},
   "outputs": [],
   "source": [
    "import numpy as np\n",
    "import glob\n",
    "import xarray as xr\n",
    "import calendar\n",
    "from pathlib import Path\n",
    "import os"
   ]
  },
  {
   "cell_type": "code",
   "execution_count": 2,
   "id": "5a4a19a9-bb97-4dd5-a1c9-55d1f41aa90e",
   "metadata": {},
   "outputs": [],
   "source": [
    "#Import files \n",
    "def get_all_files():\n",
    "    root='MERRA2/'\n",
    "    path = root+'hrly/TLML'\n",
    "    print(path)\n",
    "    files = glob.glob(path + \"/*.nc\")\n",
    "    if len(files)==0:\n",
    "        print(\"No files found\")\n",
    "    return files"
   ]
  },
  {
   "cell_type": "code",
   "execution_count": 3,
   "id": "e1b4798e-152d-4733-9c65-17f6e30bbd0b",
   "metadata": {},
   "outputs": [
    {
     "name": "stdout",
     "output_type": "stream",
     "text": [
      "MERRA2/hrly/TLML\n"
     ]
    },
    {
     "data": {
      "text/plain": [
       "True"
      ]
     },
     "execution_count": 3,
     "metadata": {},
     "output_type": "execute_result"
    }
   ],
   "source": [
    "files=get_all_files()\n",
    "Path(files[0]).parent.exists()"
   ]
  },
  {
   "cell_type": "code",
   "execution_count": 3,
   "id": "021fedf7-3938-41b5-9442-79cb726835a5",
   "metadata": {},
   "outputs": [
    {
     "name": "stdout",
     "output_type": "stream",
     "text": [
      "MERRA2/hrly/TLML\n",
      "<xarray.Dataset> Size: 10MB\n",
      "Dimensions:  (time: 24, lon: 576, lat: 180)\n",
      "Coordinates:\n",
      "  * time     (time) datetime64[ns] 192B 1996-12-19T00:30:00 ... 1996-12-19T23...\n",
      "  * lon      (lon) float64 5kB -180.0 -179.4 -178.8 -178.1 ... 178.1 178.8 179.4\n",
      "  * lat      (lat) float64 1kB 0.5 1.0 1.5 2.0 2.5 ... 88.0 88.5 89.0 89.5 90.0\n",
      "Data variables:\n",
      "    TLML     (time, lat, lon) float32 10MB ...\n",
      "Attributes: (12/32)\n",
      "    CDI:                               Climate Data Interface version 1.9.8 (...\n",
      "    Conventions:                       CF-1\n",
      "    History:                           Original file generated: Fri Oct 17 04...\n",
      "    Comment:                           GMAO filename: d5124_m2_jan91.tavg1_2d...\n",
      "    Filename:                          MERRA2_200.tavg1_2d_flx_Nx.19961219.nc4\n",
      "    Institution:                       NASA Global Modeling and Assimilation ...\n",
      "    ...                                ...\n",
      "    RangeBeginningDate:                1996-12-19\n",
      "    RangeBeginningTime:                00:00:00.000000\n",
      "    RangeEndingDate:                   1996-12-19\n",
      "    RangeEndingTime:                   23:59:59.000000\n",
      "    history_L34RS:                     'Created by L34RS v1.4.4 @ NASA GES DI...\n",
      "    CDO:                               Climate Data Operators version 1.9.8 (...\n"
     ]
    }
   ],
   "source": [
    "def test_file_getter():\n",
    "    files = get_all_files()\n",
    "    num_leap_days= calendar.leapdays(1980, 2023)\n",
    "    #print(len(files[1]))\n",
    "    assert len(files) == 365 * 44 + num_leap_days\n",
    "    print(xr.open_dataset(files[0]))\n",
    "test_file_getter()"
   ]
  },
  {
   "cell_type": "code",
   "execution_count": 19,
   "id": "ec8c154e-c418-46b5-bb09-793988ef8e3c",
   "metadata": {},
   "outputs": [],
   "source": [
    "#Not used!!!\n",
    "def save_variables1(arrs, file):\n",
    "\n",
    "    root = 'MERRA2/'\n",
    "    droot = os.path.join(root, \"daily\")\n",
    "    \n",
    "    tmin_dir = os.path.join(droot, \"TMIN\")\n",
    "    tmax_dir = os.path.join(droot, \"TMAX\")\n",
    "    \n",
    "    if not os.path.exists(tmin_dir):\n",
    "        os.makedirs(tmin_dir)  \n",
    "    if not os.path.exists(tmax_dir):\n",
    "        os.makedirs(tmax_dir)  \n",
    "    base_file = os.path.basename(file)\n",
    "    minfile = os.path.join(tmin_dir, file.replace(\".TLML.\", \".TMIN.\"))\n",
    "    maxfile = os.path.join(tmax_dir, file.replace(\".TLML.\", \".TMAX.\"))\n",
    "    \n",
    "\n",
    "    arrs[0].name = \"TMIN\"\n",
    "    arrs[0].attrs = {\n",
    "        \"long_name\": \"minimum daily temperature\",\n",
    "        \"units\": \"K\"\n",
    "    }\n",
    "    arrs[0].to_netcdf(minfile)\n",
    "    \n",
    "    arrs[1].name = \"TMAX\"\n",
    "    arrs[1].attrs = {\n",
    "        \"long_name\": \"maximum daily temperature\",\n",
    "        \"units\": \"K\"\n",
    "    }\n",
    "    arrs[1].to_netcdf(maxfile)\n"
   ]
  },
  {
   "cell_type": "code",
   "execution_count": 24,
   "id": "88c1233d-0563-4886-af1f-fb68a6c5d55b",
   "metadata": {},
   "outputs": [],
   "source": [
    "def save_variables2(arrs, file):\n",
    "    \n",
    "    root = 'MERRA2/'\n",
    "    droot = os.path.join(root, \"daily\")\n",
    "    \n",
    "    \n",
    "    tmin_dir = os.path.join(droot, \"TMIN\")\n",
    "    tmax_dir = os.path.join(droot, \"TMAX\")\n",
    "    \n",
    "    \n",
    "    os.makedirs(tmin_dir, exist_ok=True)  \n",
    "    os.makedirs(tmax_dir, exist_ok=True)  \n",
    "\n",
    "    \n",
    "    base_file = Path(file).name  \n",
    "    \n",
    "    \n",
    "    minfile = os.path.join(tmin_dir, base_file.replace(\".TLML.\", \".TMIN.\"))\n",
    "    maxfile = os.path.join(tmax_dir, base_file.replace(\".TLML.\", \".TMAX.\"))\n",
    "    \n",
    "    \n",
    "    arrs[0].name = \"TMIN\"\n",
    "    arrs[0].attrs = {\n",
    "        \"long_name\": \"minimum daily temperature\",\n",
    "        \"units\": \"K\"\n",
    "    }\n",
    "    arrs[0].to_netcdf(minfile)\n",
    "    \n",
    "    \n",
    "    arrs[1].name = \"TMAX\"\n",
    "    arrs[1].attrs = {\n",
    "        \"long_name\": \"maximum daily temperature\",\n",
    "        \"units\": \"K\"\n",
    "    }\n",
    "    arrs[1].to_netcdf(maxfile)"
   ]
  },
  {
   "cell_type": "code",
   "execution_count": 19,
   "id": "fbb4bd1d-e9e2-4909-b221-c7022f7761f9",
   "metadata": {},
   "outputs": [],
   "source": [
    "#Not used!!!\n",
    "def save_variables(arrs, file):\n",
    "    root='MERRA2/'\n",
    "    droot=root+\"/daily/\"\n",
    "    minfile=droot+\"/TMIN/\"+file.replace(\".TLML.\",\".TMIN.\")\n",
    "    maxfile=droot+\"/TMAX/\"+file.replace(\".TLML.\",\".TMAX.\")\n",
    "    arrs[0].name=\"TMIN\"\n",
    "    arrs[0].attrs={\"long_name\": \"minimum daily temperature\", \"units\":\"K\"}\n",
    "    arrs[0].to_netcdf(minfile)\n",
    "    arrs[1].name=\"TMAX\"\n",
    "    arrs[1].attrs={\"long_name\": \"maximum daily temperature\", \"units\":\"K\"}\n",
    "    arrs[1].to_netcdf(maxfile)"
   ]
  },
  {
   "cell_type": "code",
   "execution_count": 20,
   "id": "0a086177-3f0d-4dc1-bca1-f1e3b1d66b8e",
   "metadata": {},
   "outputs": [],
   "source": [
    "def compute_min(temp):\n",
    "    return temp.coarsen(time=24,coord_func=\"min\").min(\"time\")"
   ]
  },
  {
   "cell_type": "code",
   "execution_count": 21,
   "id": "57d9839c-32e7-489f-8d3c-7e688ffd2db4",
   "metadata": {},
   "outputs": [],
   "source": [
    "def compute_max(temp):\n",
    "    return temp.coarsen(time=24,coord_func=\"min\").max(\"time\")"
   ]
  },
  {
   "cell_type": "code",
   "execution_count": 25,
   "id": "217bdb4e-0e4d-4a6a-b69e-d9e4a04315f6",
   "metadata": {},
   "outputs": [],
   "source": [
    "def calc_min_max(file):\n",
    "    temp=xr.open_dataset(file)['TLML']\n",
    "    tmin=compute_min(temp)\n",
    "    tmax=compute_max(temp)\n",
    "    save_variables2([tmin, tmax], f)"
   ]
  },
  {
   "cell_type": "code",
   "execution_count": 26,
   "id": "0f86c32f-1c81-429f-a920-6a1455a85611",
   "metadata": {},
   "outputs": [
    {
     "name": "stdout",
     "output_type": "stream",
     "text": [
      "MERRA2/hrly/TLML\n"
     ]
    }
   ],
   "source": [
    "files = get_all_files()\n",
    "for f in files:\n",
    "    calc_min_max(f)"
   ]
  },
  {
   "cell_type": "code",
   "execution_count": 1,
   "id": "466452e8-ab61-4376-908b-5a4905be9fb6",
   "metadata": {},
   "outputs": [],
   "source": [
    "#Compute metric threshold"
   ]
  },
  {
   "cell_type": "code",
   "execution_count": 2,
   "id": "a4a8616e-a795-4818-a168-c370e58cdf31",
   "metadata": {},
   "outputs": [],
   "source": [
    "def get_files_for_month(month):\n",
    "    root='MERRA2/'\n",
    "    path = root+'daily/TMAX'\n",
    "    allfiles= glob.glob(path + \"/*.nc\")\n",
    "    monthfiles=[]\n",
    "    for file in allfiles:\n",
    "        filename = os.path.basename(file)\n",
    "        parts = filename.split(\".\")\n",
    "        month_part = parts[3]\n",
    "        if month_part[4:6] == month:\n",
    "            monthfiles.append(file)\n",
    "    return monthfiles"
   ]
  },
  {
   "cell_type": "code",
   "execution_count": 3,
   "id": "0389f05e-0bda-46a9-8ced-9ef5ce4013ee",
   "metadata": {},
   "outputs": [
    {
     "name": "stdout",
     "output_type": "stream",
     "text": [
      "<xarray.Dataset> Size: 421kB\n",
      "Dimensions:  (time: 1, lon: 576, lat: 180)\n",
      "Coordinates:\n",
      "  * time     (time) datetime64[ns] 8B 2003-07-23T00:30:00\n",
      "  * lon      (lon) float64 5kB -180.0 -179.4 -178.8 -178.1 ... 178.1 178.8 179.4\n",
      "  * lat      (lat) float64 1kB 0.5 1.0 1.5 2.0 2.5 ... 88.0 88.5 89.0 89.5 90.0\n",
      "Data variables:\n",
      "    TMAX     (time, lat, lon) float32 415kB ...\n"
     ]
    }
   ],
   "source": [
    "def test_files_for_month(month):\n",
    "    files = get_files_for_month(month)\n",
    "    num_days_in_month= calendar.monthrange(1981,int(month))[1] #Non leap year \n",
    "    if month=='02':\n",
    "        num_days_in_months= 44* num_days_in_month + calendar.leapdays(1980, 2023)\n",
    "        assert len(files) == 44 * num_days_in_months, len(files)\n",
    "    #print(len(files[1]))\n",
    "    else: \n",
    "        assert len(files) == 44 * num_days_in_month, num_days_in_month\n",
    "    print(xr.open_dataset(files[0]))\n",
    "test_files_for_month('07')"
   ]
  },
  {
   "cell_type": "code",
   "execution_count": 14,
   "id": "6464b9b2-2057-4b9f-9c3c-c8d3526da415",
   "metadata": {},
   "outputs": [],
   "source": [
    "lon_min = -30\n",
    "lon_max = 40\n",
    "lat_min = 30\n",
    "lat_max = 80\n",
    "\n",
    "def compute_metric_threshold(month, threshold=0.95):\n",
    "    files = get_files_for_month(month)\n",
    "    dataset = xr.open_mfdataset(files)\n",
    "    tempmax = dataset['TMAX']\n",
    "    region_dict = {\"lon\": slice(lon_min, lon_max), \"lat\": slice(lat_min, lat_max)}\n",
    "    regiontmax = tempmax.sel(region_dict)\n",
    "    regiontmax.load()\n",
    "    TMAXP95=regiontmax.quantile(threshold, dim='time')\n",
    "    TMAXP95 = TMAXP95.expand_dims(month=[month])\n",
    "    save_metric_thr_variable([TMAXP95],files[0])"
   ]
  },
  {
   "cell_type": "code",
   "execution_count": 15,
   "id": "9b465e56-b721-43e3-b102-8ff20ce84478",
   "metadata": {},
   "outputs": [],
   "source": [
    "def save_metric_thr_variable(arrs,file):\n",
    "    root='MERRA2/'\n",
    "    droot=os.path.join(root, \"stats\")\n",
    "    tmaxp95dir = os.path.join(droot, \"TMAXP95\")\n",
    "    os.makedirs(tmaxp95dir, exist_ok=True)\n",
    "    base_file = Path(file).name \n",
    "    tmaxp95file = os.path.join(tmaxp95dir, base_file.replace(\".TMAX.\", \".TMAXP95.\"))\n",
    "    arrs[0].name=\"TMAXP95\"\n",
    "    arrs[0].attrs={\"long_name\": \"95%ile daily temp for month\", \"units\":\"K\"}\n",
    "    arrs[0].to_netcdf(tmaxp95file)"
   ]
  },
  {
   "cell_type": "code",
   "execution_count": 16,
   "id": "3d4b5002-6c72-4ed7-a0e7-14ca894e4244",
   "metadata": {},
   "outputs": [],
   "source": [
    "compute_metric_threshold('01')"
   ]
  },
  {
   "cell_type": "code",
   "execution_count": 17,
   "id": "ae3cd2db-d90d-474a-97e7-7371b822b996",
   "metadata": {},
   "outputs": [],
   "source": [
    "months = ['01','02','03','04','05','06','07','08','09','10','11','12']\n",
    "for month in months:\n",
    "    compute_metric_threshold(month)"
   ]
  },
  {
   "cell_type": "code",
   "execution_count": null,
   "id": "b137e3c7-c068-4dc1-ba0b-7a95dff59551",
   "metadata": {},
   "outputs": [],
   "source": [
    "def testTMthr():\n",
    "    filegreater=[]\n",
    "    "
   ]
  }
 ],
 "metadata": {
  "kernelspec": {
   "display_name": "Python 3 (ipykernel)",
   "language": "python",
   "name": "python3"
  },
  "language_info": {
   "codemirror_mode": {
    "name": "ipython",
    "version": 3
   },
   "file_extension": ".py",
   "mimetype": "text/x-python",
   "name": "python",
   "nbconvert_exporter": "python",
   "pygments_lexer": "ipython3",
   "version": "3.10.14"
  }
 },
 "nbformat": 4,
 "nbformat_minor": 5
}
